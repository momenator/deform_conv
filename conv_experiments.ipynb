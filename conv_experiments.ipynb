{
 "cells": [
  {
   "cell_type": "code",
   "execution_count": 1,
   "metadata": {
    "collapsed": true
   },
   "outputs": [],
   "source": [
    "import torch\n",
    "import torch.nn as nn\n",
    "import numpy as np"
   ]
  },
  {
   "cell_type": "code",
   "execution_count": 2,
   "metadata": {
    "collapsed": true
   },
   "outputs": [],
   "source": [
    "# three channel image size 32x32\n",
    "image = torch.rand(1, 3, 32, 32, 32)\n",
    "k_size = (3,3,3)\n",
    "s_size = (1,1,1)"
   ]
  },
  {
   "cell_type": "code",
   "execution_count": 3,
   "metadata": {},
   "outputs": [
    {
     "name": "stdout",
     "output_type": "stream",
     "text": [
      "torch.Size([3, 3, 3, 3, 3])\n",
      "torch.Size([1, 3, 30, 30, 30])\n",
      "torch.FloatTensor\n"
     ]
    }
   ],
   "source": [
    "# Pytorch Conv2D\n",
    "conv = nn.Conv3d(3, 3, k_size, s_size, bias=False)\n",
    "print(conv.weight.shape)\n",
    "expected = conv(image)\n",
    "print(expected.shape)\n",
    "print(expected.data.type())"
   ]
  },
  {
   "cell_type": "code",
   "execution_count": 73,
   "metadata": {},
   "outputs": [
    {
     "name": "stdout",
     "output_type": "stream",
     "text": [
      "torch.Size([1, 27000, 1, 3, 3, 3, 3])\n",
      "torch.Size([1, 1, 3, 3, 3, 3, 3])\n",
      "torch.Size([1, 3, 30, 30, 30])\n"
     ]
    }
   ],
   "source": [
    "# Manual Conv3D without padding and no bias - adding a padding should not be difficult\n",
    "\n",
    "# image unfold - dimension, size and step\n",
    "\n",
    "patches = image.unfold(2, k_size[0], s_size[0]).unfold(3, k_size[1], s_size[1]).unfold(4, k_size[2], s_size[2])\n",
    "patches = patches.reshape(1, 3, -1, k_size[0], k_size[1], k_size[2])\n",
    "\n",
    "# now we get tensor with the shape of (N, C, No. windows, D, H, W)\n",
    "patches = patches.permute(0, 2, 1, 3, 4, 5)\n",
    "\n",
    "print(patches.unsqueeze(2).shape)\n",
    "print(conv.weight.unsqueeze(0).unsqueeze(1).shape)\n",
    "\n",
    "result = (patches.unsqueeze(2) * conv.weight.unsqueeze(0).unsqueeze(1)).sum([3,4,5,6])\n",
    "\n",
    "result = result.permute(0, 2, 1)\n",
    "\n",
    "# out_d = out_h = out_w = int(result.size(2) ** (1/3))\n",
    "result = result.view(1, 3, 30, 30, 30)\n",
    "\n",
    "print(result.shape)\n",
    "\n",
    "\n",
    "# def conv2d(feat, k_size=(3,3), s_size=(3,3), weights=None):\n",
    "#     # extract all patches from feat\n",
    "    "
   ]
  },
  {
   "cell_type": "code",
   "execution_count": 9,
   "metadata": {},
   "outputs": [
    {
     "name": "stdout",
     "output_type": "stream",
     "text": [
      "torch.Size([5, 32768, 3])\n",
      "--- 0.005708932876586914 seconds ---\n"
     ]
    }
   ],
   "source": [
    "import time\n",
    "\n",
    "def th_generate_grid(batch_size, input_depth, input_height, input_width):\n",
    "    grid = np.meshgrid(\n",
    "        range(input_depth), range(input_height), range(input_width), indexing='ij'\n",
    "    )\n",
    "    grid = np.stack(grid, axis=-1)\n",
    "    grid = grid.reshape(-1, 3)\n",
    "    \n",
    "    # similar to unsqueeze\n",
    "    grid = np.expand_dims(grid, 0)\n",
    "    grid = np.tile(grid, [batch_size, 1, 1])\n",
    "    grid = torch.from_numpy(grid)\n",
    "    return grid\n",
    "\n",
    "start_time = time.time()\n",
    "test = th_generate_grid(5, 32, 32, 32)\n",
    "print(test.shape)\n",
    "print(\"--- %s seconds ---\" % (time.time() - start_time))\n"
   ]
  },
  {
   "cell_type": "code",
   "execution_count": 242,
   "metadata": {},
   "outputs": [
    {
     "name": "stdout",
     "output_type": "stream",
     "text": [
      "--- 0.0024862289428710938 seconds ---\n",
      "False\n"
     ]
    }
   ],
   "source": [
    "import itertools\n",
    "start_time = time.time()\n",
    "a = np.array(np.meshgrid(range(32), range(32), range(32), indexing='ij')).T.reshape(-1,3)\n",
    "a = np.tile(a, [5, 1, 1])\n",
    "\n",
    "print(\"--- %s seconds ---\" % (time.time() - start_time))\n",
    "\n",
    "print((a == test).all())"
   ]
  },
  {
   "cell_type": "code",
   "execution_count": 230,
   "metadata": {
    "collapsed": true
   },
   "outputs": [],
   "source": [
    "coords = torch.from_numpy(a).type(torch.FloatTensor)\n",
    "\n",
    "def flatten(a): return a.reshape(a.numel())\n",
    "\n",
    "def repeat(a, repeats): return flatten(torch.transpose(a.repeat(repeats, 1), 0, 1))\n",
    "\n",
    "idx = repeat(torch.arange(0, 5), 10)\n"
   ]
  },
  {
   "cell_type": "code",
   "execution_count": 4,
   "metadata": {},
   "outputs": [
    {
     "name": "stdout",
     "output_type": "stream",
     "text": [
      "indices  torch.Size([3072, 3])\n",
      "inds  tensor([   0,    1,    2,  ..., 1052, 1053, 1055])\n",
      "indices  torch.Size([3072, 3])\n",
      "inds  tensor([  33,   34,   35,  ..., 1085, 1086, 1087])\n",
      "indices  torch.Size([3072, 3])\n",
      "inds  tensor([  32,   33,   34,  ..., 1084, 1085, 1087])\n",
      "indices  torch.Size([3072, 3])\n",
      "inds  tensor([   1,    2,    3,  ..., 1053, 1054, 1055])\n",
      "torch.Size([1, 3, 32, 32])\n"
     ]
    }
   ],
   "source": [
    "from deformable_conv_2d import ConvOffset2D\n",
    "\n",
    "image = torch.rand(1, 3, 32, 32)\n",
    "def_conv = ConvOffset2D(3)\n",
    "result = def_conv(image)\n",
    "print(result.shape)"
   ]
  },
  {
   "cell_type": "code",
   "execution_count": null,
   "metadata": {},
   "outputs": [],
   "source": [
    "import time\n",
    "import itertools\n",
    "from deformable_conv_3d import ConvOffset3D, deform_conv3d\n",
    "\n",
    "image = torch.rand(1, 16, 64, 64, 64)\n",
    "def_conv3 = deform_conv3d(16, 32, (3,3,3))\n",
    "\n",
    "start_time = time.time()\n",
    "result = def_conv3(image)\n",
    "print(\"--- %s seconds ---\" % (time.time() - start_time))\n",
    "# print(result)"
   ]
  },
  {
   "cell_type": "code",
   "execution_count": null,
   "metadata": {
    "collapsed": true
   },
   "outputs": [],
   "source": []
  }
 ],
 "metadata": {
  "kernelspec": {
   "display_name": "Python 3",
   "language": "python",
   "name": "python3"
  },
  "language_info": {
   "codemirror_mode": {
    "name": "ipython",
    "version": 3
   },
   "file_extension": ".py",
   "mimetype": "text/x-python",
   "name": "python",
   "nbconvert_exporter": "python",
   "pygments_lexer": "ipython3",
   "version": "3.6.8"
  }
 },
 "nbformat": 4,
 "nbformat_minor": 2
}
